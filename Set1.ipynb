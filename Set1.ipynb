{
 "cells": [
  {
   "cell_type": "markdown",
   "metadata": {},
   "source": [
    "# Challenge 1"
   ]
  },
  {
   "cell_type": "code",
   "execution_count": 22,
   "metadata": {},
   "outputs": [],
   "source": [
    "string = '49276d206b696c6c696e6720796f757220627261696e206c696b65206120706f69736f6e6f7573206d757368726f6f6d'\n",
    "result = b'SSdtIGtpbGxpbmcgeW91ciBicmFpbiBsaWtlIGEgcG9pc29ub3VzIG11c2hyb29t'"
   ]
  },
  {
   "cell_type": "code",
   "execution_count": 17,
   "metadata": {},
   "outputs": [],
   "source": [
    "import base64\n",
    "def hex2base64(x: str) -> str:\n",
    "    x = bytes.fromhex(x)\n",
    "    x = base64.b64encode(x)\n",
    "    return x"
   ]
  },
  {
   "cell_type": "code",
   "execution_count": 23,
   "metadata": {},
   "outputs": [
    {
     "data": {
      "text/plain": [
       "True"
      ]
     },
     "execution_count": 23,
     "metadata": {},
     "output_type": "execute_result"
    }
   ],
   "source": [
    "hex2base64(string) == result"
   ]
  },
  {
   "attachments": {},
   "cell_type": "markdown",
   "metadata": {},
   "source": [
    "# Challenge 2"
   ]
  },
  {
   "cell_type": "code",
   "execution_count": 25,
   "metadata": {},
   "outputs": [],
   "source": [
    "string = '1c0111001f010100061a024b53535009181c'\n",
    "xorAgainst = '686974207468652062756c6c277320657965'\n",
    "result = '746865206b696420646f6e277420706c6179'"
   ]
  },
  {
   "cell_type": "code",
   "execution_count": 94,
   "metadata": {},
   "outputs": [],
   "source": [
    "def xor(a, b):\n",
    "    return bytes([a_ ^ b_ for a_, b_ in zip(a,b)])"
   ]
  },
  {
   "cell_type": "code",
   "execution_count": 149,
   "metadata": {},
   "outputs": [
    {
     "data": {
      "text/plain": [
       "True"
      ]
     },
     "execution_count": 149,
     "metadata": {},
     "output_type": "execute_result"
    }
   ],
   "source": [
    "xor(bytes.fromhex(string), bytes.fromhex(xorAgainst)) == bytes.fromhex(result)"
   ]
  },
  {
   "attachments": {},
   "cell_type": "markdown",
   "metadata": {},
   "source": [
    "# Challenge 3"
   ]
  },
  {
   "cell_type": "code",
   "execution_count": 351,
   "metadata": {},
   "outputs": [],
   "source": [
    "x = '1b37373331363f78151b7f2b783431333d78397828372d363c78373e783a393b3736'"
   ]
  },
  {
   "cell_type": "code",
   "execution_count": 90,
   "metadata": {},
   "outputs": [],
   "source": [
    "# Create our own char probability distribution with the book MobyDick\n",
    "\n",
    "import string\n",
    "from collections import Counter\n",
    "\n",
    "possible_characters = string.ascii_letters+string.digits+string.punctuation+' \\n'\n",
    "with open('./mobydick.txt', 'r') as f:\n",
    "    file = f.read()\n",
    "    file = ''.join([c for c in file if c in possible_characters])\n",
    "\n",
    "counts = Counter(file)\n",
    "letterFreq= {count[0].encode(): count[1]/len(file)  for count in counts.most_common() if count[1] >= 10}"
   ]
  },
  {
   "cell_type": "code",
   "execution_count": 91,
   "metadata": {},
   "outputs": [],
   "source": [
    "def get_score(x, letterFreq):\n",
    "    len_cyphertext = len(x)\n",
    "    bytesFreq = {int.to_bytes(k, 1, byteorder='big').lower(): v/len_cyphertext for k, v in Counter(x).items()}\n",
    "    freqDiff = 0\n",
    "    for byte, byteFreq in bytesFreq.items():\n",
    "        if byte in letterFreq:\n",
    "            freqDiff += abs(letterFreq[byte] - byteFreq)**2\n",
    "        else:\n",
    "            freqDiff += 1\n",
    "    return freqDiff/len(bytesFreq)"
   ]
  },
  {
   "cell_type": "code",
   "execution_count": 92,
   "metadata": {},
   "outputs": [],
   "source": [
    "def crack(x, letterFreq, tryLuck=False):\n",
    "    shape_text = len(x)\n",
    "    all_possible_bytes = [int.to_bytes(i, length=1, byteorder='big') for i in range(256)]\n",
    "    \n",
    "    if tryLuck:\n",
    "        min_ = 1\n",
    "        for byte in all_possible_bytes:\n",
    "            key = byte*shape_text\n",
    "            xored = xor(x, key)\n",
    "            score = get_score(xored, letterFreq)\n",
    "            if score < min_:\n",
    "                min_ = score\n",
    "                results = {xored: (score, key)}\n",
    "    else:\n",
    "        results = {}\n",
    "        for byte in all_possible_bytes:\n",
    "            key = byte*shape_text\n",
    "            xored = xor(x, key)\n",
    "            results[xored] = (get_score(xored, letterFreq), key)\n",
    "            results = dict(sorted(results.items(), key=lambda item: item[1][0]))\n",
    "    return results"
   ]
  },
  {
   "cell_type": "code",
   "execution_count": 432,
   "metadata": {},
   "outputs": [],
   "source": [
    "results = crack(bytes.fromhex(x), letterFreq)"
   ]
  },
  {
   "cell_type": "code",
   "execution_count": 433,
   "metadata": {},
   "outputs": [
    {
     "data": {
      "text/plain": [
       "{b\"Cooking MC's like a pound of bacon\": (0.056582447989728224,\n",
       "  b'XXXXXXXXXXXXXXXXXXXXXXXXXXXXXXXXXX'),\n",
       " b'iEEACDM\\ngi\\rY\\nFCAO\\nK\\nZE_DN\\nEL\\nHKIED': (0.05777729241827566,\n",
       "  b'rrrrrrrrrrrrrrrrrrrrrrrrrrrrrrrrrr'),\n",
       " b'Ieeacdm*GI-y*fcao*k*ze\\x7fdn*el*hkied': (0.05810824702862019,\n",
       "  b'RRRRRRRRRRRRRRRRRRRRRRRRRRRRRRRRRR')}"
      ]
     },
     "execution_count": 433,
     "metadata": {},
     "output_type": "execute_result"
    }
   ],
   "source": [
    "{k: results[k] for k in list(results.keys())[:3]} "
   ]
  },
  {
   "attachments": {},
   "cell_type": "markdown",
   "metadata": {},
   "source": [
    "# Challenge 4"
   ]
  },
  {
   "cell_type": "code",
   "execution_count": 434,
   "metadata": {},
   "outputs": [],
   "source": [
    "with open('./cryptopals.com_static_challenge-data_4.txt', mode='r') as f:\n",
    "    file = f.read().split('\\n')"
   ]
  },
  {
   "cell_type": "code",
   "execution_count": 435,
   "metadata": {},
   "outputs": [],
   "source": [
    "plain_texts = {}\n",
    "for cyphertext in file:\n",
    "    cyphertext = bytes.fromhex(cyphertext)\n",
    "    results = crack(cyphertext, letterFreq, tryLuck=True)\n",
    "    plain_texts[list(results.keys())[0]] = [cyphertext] + list(list(results.values())[0])\n",
    "    # for key, value in {k: results[k] for k in list(results.keys())[:2]}.items():\n",
    "    #     plain_texts[key] = [cyphertext] + list(value)"
   ]
  },
  {
   "cell_type": "code",
   "execution_count": 436,
   "metadata": {},
   "outputs": [],
   "source": [
    "plain_texts = dict(sorted(plain_texts.items(), key=lambda item: item[1][1]))"
   ]
  },
  {
   "cell_type": "code",
   "execution_count": 439,
   "metadata": {},
   "outputs": [
    {
     "data": {
      "text/plain": [
       "{b'Now that the party is jumping\\n': [b'{ZB\\x15A]TA\\x15A]P\\x15ETGAL\\x15\\\\F\\x15_@XE\\\\[R?',\n",
       "  0.0008405288816178472,\n",
       "  b'555555555555555555555555555555'],\n",
       " b'S5_In*Z6uSN^eW(95gh\"\"ZS2MhijvF': [b'7Q;-\\nN>R\\x117*:\\x013L]Q\\x03\\x0cFF>7V)\\x0c\\r\\x0e\\x12\"',\n",
       "  0.04682201436678573,\n",
       "  b'dddddddddddddddddddddddddddddd'],\n",
       " b\"6GXyf\\x821_6O't6-194u5DbH wi7vwef\": [b'Q ?\\x1e\\x01\\xe5V8Q(@\\x13QJV^S\\x12R#\\x05/G\\x10\\x0eP\\x11\\x10\\x02\\x01',\n",
       "  0.08206291755168774,\n",
       "  b'gggggggggggggggggggggggggggggg']}"
      ]
     },
     "execution_count": 439,
     "metadata": {},
     "output_type": "execute_result"
    }
   ],
   "source": [
    "{k: plain_texts[k] for k in list(plain_texts.keys())[:3]} "
   ]
  },
  {
   "cell_type": "markdown",
   "metadata": {},
   "source": [
    "# Challenge 5"
   ]
  },
  {
   "cell_type": "code",
   "execution_count": 469,
   "metadata": {},
   "outputs": [],
   "source": [
    "plainText = '''Burning 'em, if you ain't quick and nimble\n",
    "I go crazy when I hear a cymbal'''\n",
    "key = 'ICE'\n",
    "\n",
    "ciphertext = '0b3637272a2b2e63622c2e69692a23693a2a3c6324202d623d63343c2a26226324272765272a282b2f20430a652e2c652a3124333a653e2b2027630c692b20283165286326302e27282f'"
   ]
  },
  {
   "cell_type": "code",
   "execution_count": 101,
   "metadata": {},
   "outputs": [],
   "source": [
    "def repeatingKeyXOR(x, key):\n",
    "    xlen = len(x)\n",
    "    repKey = key*xlen\n",
    "    return xor(x, repKey)"
   ]
  },
  {
   "cell_type": "code",
   "execution_count": 472,
   "metadata": {},
   "outputs": [
    {
     "data": {
      "text/plain": [
       "True"
      ]
     },
     "execution_count": 472,
     "metadata": {},
     "output_type": "execute_result"
    }
   ],
   "source": [
    "repeatingKeyXOR(plainText.encode(), key.encode()).hex() == ciphertext"
   ]
  },
  {
   "cell_type": "code",
   "execution_count": 475,
   "metadata": {},
   "outputs": [
    {
     "name": "stdout",
     "output_type": "stream",
     "text": [
      "Burning 'em, if you ain't quick and nimble\n",
      "I go crazy when I hear a cymbal\n"
     ]
    }
   ],
   "source": [
    "print(repeatingKeyXOR(bytes.fromhex(ciphertext), key.encode()).decode())"
   ]
  },
  {
   "attachments": {},
   "cell_type": "markdown",
   "metadata": {},
   "source": [
    "# Challenge 6"
   ]
  },
  {
   "cell_type": "code",
   "execution_count": 104,
   "metadata": {},
   "outputs": [],
   "source": [
    "import base64\n",
    "with open('./cryptopals.com_static_challenge-data_6.txt', 'r') as f:\n",
    "    file = base64.b64decode(f.read().replace('\\n', '').encode())"
   ]
  },
  {
   "cell_type": "code",
   "execution_count": 10,
   "metadata": {},
   "outputs": [
    {
     "name": "stdout",
     "output_type": "stream",
     "text": [
      "37\n"
     ]
    }
   ],
   "source": [
    "a = 'this is a test'\n",
    "b = 'wokka wokka!!!'\n",
    "\n",
    "def hamming(x, y):\n",
    "    assert len(x)==len(y), 'x and y should have the same length'\n",
    "    x = [int(bit) for byte in x for bit in bin(byte)[2:].rjust(8, '0')]\n",
    "    y = [int(bit) for byte in y for bit in bin(byte)[2:].rjust(8, '0')]\n",
    "    return sum([x_!=y_ for x_, y_ in zip (x, y)])\n",
    "\n",
    "print(hamming(a.encode(), b.encode()))"
   ]
  },
  {
   "cell_type": "code",
   "execution_count": 31,
   "metadata": {},
   "outputs": [],
   "source": [
    "import math\n",
    "from itertools import combinations\n",
    "\n",
    "def guess_keysize(file, nChunks):\n",
    "    average_over = math.factorial(nChunks)/(2*math.factorial(nChunks-2))\n",
    "    scores = []\n",
    "    min_ = 2**8*40\n",
    "    guessed_keysize = None\n",
    "    for keysize in range(2, 40):\n",
    "        chunks = [file[i*keysize:(i + 1)*keysize] for i in range(nChunks)]\n",
    "        score = sum([hamming(comb[0], comb[1])/keysize \n",
    "                    for comb in combinations(chunks, 2)]) / average_over\n",
    "        scores.append(score)\n",
    "        if score < min_:\n",
    "            guessed_keysize = keysize\n",
    "            min_ = score\n",
    "    return scores, guessed_keysize"
   ]
  },
  {
   "cell_type": "code",
   "execution_count": 40,
   "metadata": {},
   "outputs": [
    {
     "data": {
      "image/png": "[encoded data removed]",
      "text/plain": [
       "<Figure size 432x288 with 1 Axes>"
      ]
     },
     "metadata": {
      "needs_background": "light"
     },
     "output_type": "display_data"
    }
   ],
   "source": [
    "import matplotlib.pyplot as plt\n",
    "\n",
    "scores, keysize = guess_keysize(file, nChunks=20)\n",
    "plt.bar(range(2,40), scores);"
   ]
  },
  {
   "cell_type": "code",
   "execution_count": 88,
   "metadata": {},
   "outputs": [],
   "source": [
    "import numpy as np\n",
    "\n",
    "file_blocks = [file[i:keysize+i] for i in range(0, len(file), keysize)]\n",
    "file_blocks[-1] = file_blocks[-1].ljust(keysize, b'\\x00')\n",
    "file_blocks_T = list(map(list, zip(*[[bytes([i]) for i in block] for block in file_blocks])))\n",
    "file_blocks_T = [b''.join(block) for block in file_blocks_T]"
   ]
  },
  {
   "cell_type": "code",
   "execution_count": 100,
   "metadata": {},
   "outputs": [
    {
     "data": {
      "text/plain": [
       "b'Terminator X: Bring the noise'"
      ]
     },
     "execution_count": 100,
     "metadata": {},
     "output_type": "execute_result"
    }
   ],
   "source": [
    "key = b''\n",
    "for cyphertext in file_blocks_T:\n",
    "    results = crack(cyphertext, letterFreq, tryLuck=True)\n",
    "    key+= bytes([list(results.values())[0][1][0]])\n",
    "key"
   ]
  },
  {
   "cell_type": "code",
   "execution_count": 107,
   "metadata": {},
   "outputs": [
    {
     "name": "stdout",
     "output_type": "stream",
     "text": [
      "I'm back and I'm ringin' the bell \n",
      "A rockin' on the mike while the fly girls yell \n",
      "In ecstasy in the back of me \n",
      "Well that's my DJ Deshay cuttin' all them Z's \n",
      "Hittin' hard and the girlies goin' crazy \n",
      "Vanilla's on the mike, man I'm not lazy. \n",
      "\n",
      "I'm lettin' my drug kick in \n",
      "It controls my mouth and I begin \n",
      "To just let it flow, let my concepts go \n",
      "My posse's to the side yellin', Go Vanilla Go! \n",
      "\n",
      "Smooth 'cause that's the way I will be \n",
      "And if you don't give a damn, then \n",
      "Why you starin' at me \n",
      "So get off 'cause I control the stage \n",
      "There's no dissin' allowed \n",
      "I'm in my own phase \n",
      "The girlies sa y they love me and that is ok \n",
      "And I can dance better than any kid n' play \n",
      "\n",
      "Stage 2 -- Yea the one ya' wanna listen to \n",
      "It's off my head so let the beat play through \n",
      "So I can funk it up and make it sound good \n",
      "1-2-3 Yo -- Knock on some wood \n",
      "For good luck, I like my rhymes atrocious \n",
      "Supercalafragilisticexpialidocious \n",
      "I'm an effect and that you can bet \n",
      "I can take a fly girl and make her wet. \n",
      "\n",
      "I'm like Samson -- Samson to Delilah \n",
      "There's no denyin', You can try to hang \n",
      "But you'll keep tryin' to get my style \n",
      "Over and over, practice makes perfect \n",
      "But not if you're a loafer. \n",
      "\n",
      "You'll get nowhere, no place, no time, no girls \n",
      "Soon -- Oh my God, homebody, you probably eat \n",
      "Spaghetti with a spoon! Come on and say it! \n",
      "\n",
      "VIP. Vanilla Ice yep, yep, I'm comin' hard like a rhino \n",
      "Intoxicating so you stagger like a wino \n",
      "So punks stop trying and girl stop cryin' \n",
      "Vanilla Ice is sellin' and you people are buyin' \n",
      "'Cause why the freaks are jockin' like Crazy Glue \n",
      "Movin' and groovin' trying to sing along \n",
      "All through the ghetto groovin' this here song \n",
      "Now you're amazed by the VIP posse. \n",
      "\n",
      "Steppin' so hard like a German Nazi \n",
      "Startled by the bases hittin' ground \n",
      "There's no trippin' on mine, I'm just gettin' down \n",
      "Sparkamatic, I'm hangin' tight like a fanatic \n",
      "You trapped me once and I thought that \n",
      "You might have it \n",
      "So step down and lend me your ear \n",
      "'89 in my time! You, '90 is my year. \n",
      "\n",
      "You're weakenin' fast, YO! and I can tell it \n",
      "Your body's gettin' hot, so, so I can smell it \n",
      "So don't be mad and don't be sad \n",
      "'Cause the lyrics belong to ICE, You can call me Dad \n",
      "You're pitchin' a fit, so step back and endure \n",
      "Let the witch doctor, Ice, do the dance to cure \n",
      "So come up close and don't be square \n",
      "You wanna battle me -- Anytime, anywhere \n",
      "\n",
      "You thought that I was weak, Boy, you're dead wrong \n",
      "So come on, everybody and sing this song \n",
      "\n",
      "Say -- Play that funky music Say, go white boy, go white boy go \n",
      "play that funky music Go white boy, go white boy, go \n",
      "Lay down and boogie and play that funky music till you die. \n",
      "\n",
      "Play that funky music Come on, Come on, let me hear \n",
      "Play that funky music white boy you say it, say it \n",
      "Play that funky music A little louder now \n",
      "Play that funky music, white boy Come on, Come on, Come on \n",
      "Play that funky music \n",
      "\n"
     ]
    }
   ],
   "source": [
    "print(repeatingKeyXOR(file, key).decode())"
   ]
  },
  {
   "attachments": {},
   "cell_type": "markdown",
   "metadata": {},
   "source": [
    "# 7"
   ]
  },
  {
   "cell_type": "code",
   "execution_count": 8,
   "metadata": {},
   "outputs": [],
   "source": [
    "key = 'YELLOW SUBMARINE'\n",
    "with open('./cryptopals.com_static_challenge-data_7.txt', 'r') as f:\n",
    "    file = ''.join(f.read().split('\\n'))"
   ]
  },
  {
   "cell_type": "code",
   "execution_count": 11,
   "metadata": {},
   "outputs": [],
   "source": [
    "import base64\n",
    "fileb64d = base64.b64decode(file.encode())"
   ]
  },
  {
   "cell_type": "code",
   "execution_count": 23,
   "metadata": {},
   "outputs": [],
   "source": [
    "from cryptography.hazmat.primitives.ciphers import Cipher, algorithms, modes\n",
    "\n",
    "cipher = Cipher(\n",
    "    algorithm=algorithms.AES(key.encode()),\n",
    "    mode=modes.ECB()\n",
    "    )\n",
    "decryptor = cipher.decryptor()"
   ]
  },
  {
   "cell_type": "code",
   "execution_count": 31,
   "metadata": {},
   "outputs": [
    {
     "name": "stdout",
     "output_type": "stream",
     "text": [
      "I'm back and I'm ringin' the bell \n",
      "A rockin' on the mike while the fly girls yell \n",
      "In ecstasy in the back of me \n",
      "Well that's my DJ Deshay cuttin' all them Z's \n",
      "Hittin' hard and the girlies goin' crazy \n",
      "Vanilla's on the mike, man I'm not lazy. \n",
      "\n",
      "I'm lettin' my drug kick in \n",
      "It controls my mouth and I begin \n",
      "To just let it flow, let my concepts go \n",
      "My posse's to the side yellin', Go Vanilla Go! \n",
      "\n",
      "Smooth 'cause that's the way I will be \n",
      "And if you don't give a damn, then \n",
      "Why you starin' at me \n",
      "So get off 'cause I control the stage \n",
      "There's no dissin' allowed \n",
      "I'm in my own phase \n",
      "The girlies sa y they love me and that is ok \n",
      "And I can dance better than any kid n' play \n",
      "\n",
      "Stage 2 -- Yea the one ya' wanna listen to \n",
      "It's off my head so let the beat play through \n",
      "So I can funk it up and make it sound good \n",
      "1-2-3 Yo -- Knock on some wood \n",
      "For good luck, I like my rhymes atrocious \n",
      "Supercalafragilisticexpialidocious \n",
      "I'm an effect and that you can bet \n",
      "I can take a fly girl and make her wet. \n",
      "\n",
      "I'm like Samson -- Samson to Delilah \n",
      "There's no denyin', You can try to hang \n",
      "But you'll keep tryin' to get my style \n",
      "Over and over, practice makes perfect \n",
      "But not if you're a loafer. \n",
      "\n",
      "You'll get nowhere, no place, no time, no girls \n",
      "Soon -- Oh my God, homebody, you probably eat \n",
      "Spaghetti with a spoon! Come on and say it! \n",
      "\n",
      "VIP. Vanilla Ice yep, yep, I'm comin' hard like a rhino \n",
      "Intoxicating so you stagger like a wino \n",
      "So punks stop trying and girl stop cryin' \n",
      "Vanilla Ice is sellin' and you people are buyin' \n",
      "'Cause why the freaks are jockin' like Crazy Glue \n",
      "Movin' and groovin' trying to sing along \n",
      "All through the ghetto groovin' this here song \n",
      "Now you're amazed by the VIP posse. \n",
      "\n",
      "Steppin' so hard like a German Nazi \n",
      "Startled by the bases hittin' ground \n",
      "There's no trippin' on mine, I'm just gettin' down \n",
      "Sparkamatic, I'm hangin' tight like a fanatic \n",
      "You trapped me once and I thought that \n",
      "You might have it \n",
      "So step down and lend me your ear \n",
      "'89 in my time! You, '90 is my year. \n",
      "\n",
      "You're weakenin' fast, YO! and I can tell it \n",
      "Your body's gettin' hot, so, so I can smell it \n",
      "So don't be mad and don't be sad \n",
      "'Cause the lyrics belong to ICE, You can call me Dad \n",
      "You're pitchin' a fit, so step back and endure \n",
      "Let the witch doctor, Ice, do the dance to cure \n",
      "So come up close and don't be square \n",
      "You wanna battle me -- Anytime, anywhere \n",
      "\n",
      "You thought that I was weak, Boy, you're dead wrong \n",
      "So come on, everybody and sing this song \n",
      "\n",
      "Say -- Play that funky music Say, go white boy, go white boy go \n",
      "play that funky music Go white boy, go white boy, go \n",
      "Lay down and boogie and play that funky music till you die. \n",
      "\n",
      "Play that funky music Come on, Come on, let me hear \n",
      "Play that funky music white boy you say it, say it \n",
      "Play that funky music A little louder now \n",
      "Play that funky music, white boy Come on, Come on, Come on \n",
      "Play that funky music \n",
      "\u0004\u0004\u0004\u0004\n"
     ]
    }
   ],
   "source": [
    "plain_text = decryptor.update(fileb64d).decode()\n",
    "print(plain_text)"
   ]
  },
  {
   "attachments": {},
   "cell_type": "markdown",
   "metadata": {},
   "source": [
    "# 8"
   ]
  },
  {
   "cell_type": "code",
   "execution_count": 36,
   "metadata": {},
   "outputs": [],
   "source": [
    "with open('./cryptopals.com_static_challenge-data_8.txt', 'r') as f:\n",
    "    file = f.read().split('\\n')\n",
    "decoded_file = [bytes.fromhex(text) for text in file]"
   ]
  },
  {
   "cell_type": "code",
   "execution_count": 41,
   "metadata": {},
   "outputs": [],
   "source": [
    "from cryptography.hazmat.primitives.ciphers import Cipher, algorithms, modes\n",
    "\n",
    "cipher = Cipher(\n",
    "    algorithm=algorithms.AES(key.encode()),\n",
    "    mode=modes.ECB()\n",
    "    )\n",
    "decryptor = cipher.decryptor()"
   ]
  },
  {
   "cell_type": "code",
   "execution_count": 54,
   "metadata": {},
   "outputs": [
    {
     "data": {
      "text/plain": [
       "[True, True, True, True, True, True, True, True, True, True]"
      ]
     },
     "execution_count": 54,
     "metadata": {},
     "output_type": "execute_result"
    }
   ],
   "source": [
    "[segment in segments8bytes for segment in segments8bytes]"
   ]
  },
  {
   "cell_type": "code",
   "execution_count": 55,
   "metadata": {},
   "outputs": [],
   "source": [
    "nBytesCipher = 16\n",
    "\n",
    "ECBmodeDetected = []\n",
    "for text in decoded_file:\n",
    "    plain_text = decryptor.update(text)\n",
    "    segments8bytes = [text[i:i+nBytesCipher] for i in range(0, len(text), nBytesCipher)]\n",
    "    if len(segments8bytes) != len(set(segments8bytes)):\n",
    "        ECBmodeDetected.append(text)"
   ]
  },
  {
   "cell_type": "code",
   "execution_count": 59,
   "metadata": {},
   "outputs": [
    {
     "name": "stdout",
     "output_type": "stream",
     "text": [
      "['d880619740a8a19b7840a8a31c810a3d08649af70dc06f4fd5d2d69c744cd283e2dd052f6b641dbf9d11b0348542bb5708649af70dc06f4fd5d2d69c744cd2839475c9dfdbc1d46597949d9c7e82bf5a08649af70dc06f4fd5d2d69c744cd28397a93eab8d6aecd566489154789a6b0308649af70dc06f4fd5d2d69c744cd283d403180c98c8f6db1f2a3f9c4040deb0ab51b29933f2c123c58386b06fba186a']\n"
     ]
    }
   ],
   "source": [
    "print([i.hex() for i in ECBmodeDetected])"
   ]
  },
  {
   "cell_type": "code",
   "execution_count": null,
   "metadata": {},
   "outputs": [],
   "source": []
  }
 ],
 "metadata": {
  "kernelspec": {
   "display_name": "Python 3",
   "language": "python",
   "name": "python3"
  },
  "language_info": {
   "codemirror_mode": {
    "name": "ipython",
    "version": 3
   },
   "file_extension": ".py",
   "mimetype": "text/x-python",
   "name": "python",
   "nbconvert_exporter": "python",
   "pygments_lexer": "ipython3",
   "version": "3.9.12"
  },
  "orig_nbformat": 4
 },
 "nbformat": 4,
 "nbformat_minor": 2
}
