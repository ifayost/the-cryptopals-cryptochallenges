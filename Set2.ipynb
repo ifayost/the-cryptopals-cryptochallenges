{
 "cells": [
  {
   "attachments": {},
   "cell_type": "markdown",
   "metadata": {},
   "source": [
    "# 9"
   ]
  },
  {
   "cell_type": "code",
   "execution_count": 87,
   "metadata": {},
   "outputs": [],
   "source": [
    "text = \"YELLOW SUBMARINE\""
   ]
  },
  {
   "cell_type": "code",
   "execution_count": 17,
   "metadata": {},
   "outputs": [],
   "source": [
    "class PKCS7:\n",
    "    def __init__(self, block_size):\n",
    "        self.block_size = block_size\n",
    "\n",
    "    def pad(self, text):\n",
    "        n = self.block_size - len(text) % self.block_size\n",
    "        return text + bytes([n] * n)\n",
    "    \n",
    "    def unpad(self, text):\n",
    "        n = text[-1]\n",
    "        return text[:-n]"
   ]
  },
  {
   "cell_type": "code",
   "execution_count": 90,
   "metadata": {},
   "outputs": [
    {
     "data": {
      "text/plain": [
       "b'YELLOW SUBMARINE\\x04\\x04\\x04\\x04'"
      ]
     },
     "execution_count": 90,
     "metadata": {},
     "output_type": "execute_result"
    }
   ],
   "source": [
    "pkcs7 = PKCS7(20)\n",
    "pkcs7.pad(text.encode())"
   ]
  },
  {
   "attachments": {},
   "cell_type": "markdown",
   "metadata": {},
   "source": [
    "# 10"
   ]
  },
  {
   "cell_type": "code",
   "execution_count": 1,
   "metadata": {},
   "outputs": [],
   "source": [
    "import base64\n",
    "key = \"YELLOW SUBMARINE\"\n",
    "with open('./cryptopals.com_static_challenge-data_10.txt', 'r') as f:\n",
    "    file = base64.b64decode(f.read().replace('\\n', '').encode())"
   ]
  },
  {
   "cell_type": "code",
   "execution_count": 2,
   "metadata": {},
   "outputs": [],
   "source": [
    "from utils import xor, PKCS7, AES_CBC\n",
    "from cryptography.hazmat.primitives.ciphers import Cipher, algorithms, modes\n",
    "\n",
    "blockSize = int(algorithms.AES(key.encode()).block_size/8)"
   ]
  },
  {
   "cell_type": "code",
   "execution_count": 3,
   "metadata": {},
   "outputs": [
    {
     "name": "stdout",
     "output_type": "stream",
     "text": [
      "I'm back and I'm ringin' the bell \n",
      "A rockin' on the mike while the fly girls yell \n",
      "In ecstasy in the back of me \n",
      "Well that's my DJ Deshay cuttin' all them Z's \n",
      "Hittin' hard and the girlies goin' crazy \n",
      "Vanilla's on the mike, man I'm not lazy. \n",
      "\n",
      "I'm lettin' my drug kick in \n",
      "It controls my mouth and I begin \n",
      "To just let it flow, let my concepts go \n",
      "My posse's to the side yellin', Go Vanilla Go! \n",
      "\n",
      "Smooth 'cause that's the way I will be \n",
      "And if you don't give a damn, then \n",
      "Why you starin' at me \n",
      "So get off 'cause I control the stage \n",
      "There's no dissin' allowed \n",
      "I'm in my own phase \n",
      "The girlies sa y they love me and that is ok \n",
      "And I can dance better than any kid n' play \n",
      "\n",
      "Stage 2 -- Yea the one ya' wanna listen to \n",
      "It's off my head so let the beat play through \n",
      "So I can funk it up and make it sound good \n",
      "1-2-3 Yo -- Knock on some wood \n",
      "For good luck, I like my rhymes atrocious \n",
      "Supercalafragilisticexpialidocious \n",
      "I'm an effect and that you can bet \n",
      "I can take a fly girl and make her wet. \n",
      "\n",
      "I'm like Samson -- Samson to Delilah \n",
      "There's no denyin', You can try to hang \n",
      "But you'll keep tryin' to get my style \n",
      "Over and over, practice makes perfect \n",
      "But not if you're a loafer. \n",
      "\n",
      "You'll get nowhere, no place, no time, no girls \n",
      "Soon -- Oh my God, homebody, you probably eat \n",
      "Spaghetti with a spoon! Come on and say it! \n",
      "\n",
      "VIP. Vanilla Ice yep, yep, I'm comin' hard like a rhino \n",
      "Intoxicating so you stagger like a wino \n",
      "So punks stop trying and girl stop cryin' \n",
      "Vanilla Ice is sellin' and you people are buyin' \n",
      "'Cause why the freaks are jockin' like Crazy Glue \n",
      "Movin' and groovin' trying to sing along \n",
      "All through the ghetto groovin' this here song \n",
      "Now you're amazed by the VIP posse. \n",
      "\n",
      "Steppin' so hard like a German Nazi \n",
      "Startled by the bases hittin' ground \n",
      "There's no trippin' on mine, I'm just gettin' down \n",
      "Sparkamatic, I'm hangin' tight like a fanatic \n",
      "You trapped me once and I thought that \n",
      "You might have it \n",
      "So step down and lend me your ear \n",
      "'89 in my time! You, '90 is my year. \n",
      "\n",
      "You're weakenin' fast, YO! and I can tell it \n",
      "Your body's gettin' hot, so, so I can smell it \n",
      "So don't be mad and don't be sad \n",
      "'Cause the lyrics belong to ICE, You can call me Dad \n",
      "You're pitchin' a fit, so step back and endure \n",
      "Let the witch doctor, Ice, do the dance to cure \n",
      "So come up close and don't be square \n",
      "You wanna battle me -- Anytime, anywhere \n",
      "\n",
      "You thought that I was weak, Boy, you're dead wrong \n",
      "So come on, everybody and sing this song \n",
      "\n",
      "Say -- Play that funky music Say, go white boy, go white boy go \n",
      "play that funky music Go white boy, go white boy, go \n",
      "Lay down and boogie and play that funky music till you die. \n",
      "\n",
      "Play that funky music Come on, Come on, let me hear \n",
      "Play that funky music white boy you say it, say it \n",
      "Play that funky music A little louder now \n",
      "Play that funky music, white boy Come on, Come on, Come on \n",
      "Play that funky music \n",
      "\n"
     ]
    }
   ],
   "source": [
    "aes_cbc = AES_CBC(key = key.encode(),\n",
    "                  IV = b'\\x00'*blockSize)\n",
    "print(aes_cbc.decrypt(file).decode())"
   ]
  },
  {
   "attachments": {},
   "cell_type": "markdown",
   "metadata": {},
   "source": [
    "# 11"
   ]
  },
  {
   "cell_type": "code",
   "execution_count": 7,
   "metadata": {},
   "outputs": [],
   "source": [
    "import os\n",
    "from utils import AES_CBC, PKCS7\n",
    "from cryptography.hazmat.primitives.ciphers import Cipher, algorithms, modes\n",
    "\n",
    "def encryption_oracle(plainText):\n",
    "    lengthRandomBytes = 5 + int(int.from_bytes(os.urandom(1), byteorder='big')* (6/256))\n",
    "    plainText = os.urandom(lengthRandomBytes) + plainText + os.urandom(lengthRandomBytes)\n",
    "\n",
    "    blockSize = 16\n",
    "    key = os.urandom(blockSize)\n",
    "\n",
    "    if int.from_bytes(os.urandom(1), byteorder='big')/256 < 0.5:\n",
    "        cipher = AES_CBC(key, IV=os.urandom(blockSize))\n",
    "        return cipher.encrypt(plainText)\n",
    "    else:\n",
    "        cipher = Cipher(algorithm=algorithms.AES(key),\n",
    "                        mode=modes.ECB())\n",
    "        padding = PKCS7(blockSize)\n",
    "        plainText = padding.pad(plainText)\n",
    "        encryptor = cipher.encryptor()\n",
    "        return encryptor.update(plainText)"
   ]
  },
  {
   "cell_type": "code",
   "execution_count": 8,
   "metadata": {},
   "outputs": [],
   "source": [
    "import base64\n",
    "key = \"YELLOW SUBMARINE\"\n",
    "with open('./cryptopals.com_static_challenge-data_10.txt', 'r') as f:\n",
    "    file = base64.b64decode(f.read().replace('\\n', '').encode())"
   ]
  },
  {
   "cell_type": "code",
   "execution_count": 9,
   "metadata": {},
   "outputs": [
    {
     "name": "stdout",
     "output_type": "stream",
     "text": [
      "{'CBC mode': 0.514, 'ECB mode': 0.486}\n"
     ]
    }
   ],
   "source": [
    "from utils import check_repetitions_ECB\n",
    "from collections import Counter\n",
    "\n",
    "experiments = []\n",
    "for i in range(0, 1000):\n",
    "    if check_repetitions_ECB(encryption_oracle(b'0'*256), 16):\n",
    "        experiments.append('ECB mode')\n",
    "    else:\n",
    "        experiments.append('CBC mode')\n",
    "\n",
    "counts = Counter(experiments)\n",
    "results = {key: value/len(experiments) for key, value in counts.items()}\n",
    "print(results)"
   ]
  },
  {
   "attachments": {},
   "cell_type": "markdown",
   "metadata": {},
   "source": [
    "# 12"
   ]
  },
  {
   "cell_type": "code",
   "execution_count": 170,
   "metadata": {},
   "outputs": [],
   "source": [
    "import os\n",
    "import base64\n",
    "from utils import PKCS7\n",
    "from cryptography.hazmat.primitives.ciphers import Cipher, algorithms, modes\n",
    "\n",
    "class Oracle:\n",
    "    def __init__(self, blockSise):\n",
    "        self.blockSize = blockSize\n",
    "        self.key = os.urandom(self.blockSize)\n",
    "        self.header = base64.b64decode(\"\"\"\n",
    "Um9sbGluJyBpbiBteSA1LjAKV2l0aCBteSByYWctdG9wIGRvd24gc28gbXkg\n",
    "aGFpciBjYW4gYmxvdwpUaGUgZ2lybGllcyBvbiBzdGFuZGJ5IHdhdmluZyBq\n",
    "dXN0IHRvIHNheSBoaQpEaWQgeW91IHN0b3A/IE5vLCBJIGp1c3QgZHJvdmUg\n",
    "YnkK\n",
    "\"\"\")\n",
    "        self.cipher = Cipher(\n",
    "            algorithm=algorithms.AES(self.key),\n",
    "            mode=modes.ECB()\n",
    "            )\n",
    "        self.encryptor = self.cipher.encryptor()\n",
    "        self.padding = PKCS7(self.blockSize)\n",
    "\n",
    "    def digest(self, plainText):\n",
    "        plainText += self.header\n",
    "        plainText = self.padding.pad(plainText)\n",
    "        return self.encryptor.update(plainText)"
   ]
  },
  {
   "cell_type": "code",
   "execution_count": 172,
   "metadata": {},
   "outputs": [
    {
     "data": {
      "text/plain": [
       "b'\\x8e\\xf3\\xd3}\\xde\\x91V\\'5\\x8a\\xd6}\\xff:\\xd0C\\x9a\\xf4\\xbd\\xe8\\x81\\xa0\\x92\\x92X\\x13\\x91y\\xa7*\\xfe\\xb7-\\x9c\\xf0\\x9c\\xd7;\\xc4\\xb2\\xe6\\xe0\\xba\\xb8/au\\xbb>\\x04\\xb9\\'\\x14qC\\\\\\xea\\xb8\\xefIj9\\x14\\x9c>\\xdc\\x11\\xe1L+\\xe8\\x0fHS\\xe2(\\x95\\xe9[7\\x95!D\\xd1>\\x81\\x91\\xb3\\xfe\\x89\\xb6I_\\xe3\\t5/y\\xc0\\x93a\\x81\\x05[\\x8e\\x01\\x85\\x1a2#\\x1a)\\xcb\\xb3_\\x9c*\\xce\\x8dl\\xd9\\xba\\xb9\\xee\\x0b|\\xbe:\\x17\\xb0C\\x02\\x8e\\x88>SI\\xbe\\x19\\\\a\\xac\\xee]2p`\\x82\\xfd\\x85\"\\xc8p3{\\x1du\\x8a\\xaf1'"
      ]
     },
     "execution_count": 172,
     "metadata": {},
     "output_type": "execute_result"
    }
   ],
   "source": [
    "blockSize = 16\n",
    "oracle = Oracle(blockSise=blockSize)\n",
    "oracle.digest(b'hola que tal')"
   ]
  },
  {
   "cell_type": "code",
   "execution_count": 173,
   "metadata": {},
   "outputs": [
    {
     "name": "stdout",
     "output_type": "stream",
     "text": [
      "Padding length = 16\n"
     ]
    }
   ],
   "source": [
    "stop = False\n",
    "startingLen = len(oracle.digest(b''))\n",
    "i = 1\n",
    "while not stop:\n",
    "    newLen = len(oracle.digest(b'A'*i))\n",
    "    if newLen != startingLen:\n",
    "        stop = True\n",
    "    else:\n",
    "        i += 1\n",
    "blockSizeFound = newLen - startingLen\n",
    "print(f'Padding length = {blockSizeFound}')"
   ]
  },
  {
   "cell_type": "code",
   "execution_count": 174,
   "metadata": {},
   "outputs": [
    {
     "name": "stdout",
     "output_type": "stream",
     "text": [
      "ECB mode? True\n"
     ]
    }
   ],
   "source": [
    "from utils import check_repetitions_ECB\n",
    "print(f\"ECB mode? {check_repetitions_ECB(oracle.digest(b'A'*blockSizeFound*2), blockSizeFound)}\")"
   ]
  },
  {
   "cell_type": "code",
   "execution_count": 239,
   "metadata": {},
   "outputs": [],
   "source": [
    "def crack_ecb_oracle(oracle, crackedBytes, blockSizeFound):\n",
    "    plainText = b'A'* (blockSizeFound - 1 - len(crackedBytes) % blockSizeFound)\n",
    "    cyphertext = oracle.digest(plainText)\n",
    "\n",
    "    plainText = b'A'* (blockSizeFound - 1 - len(crackedBytes) % blockSizeFound) + crackedBytes\n",
    "    comparisonLen = int(blockSizeFound * (int(len(crackedBytes)/blockSizeFound) + 1))\n",
    "    for i in range(256):\n",
    "        byte = int.to_bytes(i, length=1, byteorder='big')\n",
    "        if oracle.digest(plainText + byte)[:comparisonLen] == cyphertext[:comparisonLen]:\n",
    "            return byte\n",
    "    return b''"
   ]
  },
  {
   "cell_type": "code",
   "execution_count": 240,
   "metadata": {},
   "outputs": [],
   "source": [
    "decodedText = b''\n",
    "for _ in range(len(oracle.digest(b''))):\n",
    "    decodedText += crack_ecb_oracle(oracle, decodedText, blockSizeFound)"
   ]
  },
  {
   "cell_type": "code",
   "execution_count": 243,
   "metadata": {},
   "outputs": [
    {
     "name": "stdout",
     "output_type": "stream",
     "text": [
      "Rollin' in my 5.0\n",
      "With my rag-top down so my hair can blow\n",
      "The girlies on standby waving just to say hi\n",
      "Did you stop? No, I just drove by\n",
      "\u0001\n"
     ]
    }
   ],
   "source": [
    "print(decodedText.decode())"
   ]
  },
  {
   "cell_type": "code",
   "execution_count": 246,
   "metadata": {},
   "outputs": [
    {
     "name": "stdout",
     "output_type": "stream",
     "text": [
      "Rollin' in my 5.0\n",
      "With my rag-top down so my hair can blow\n",
      "The girlies on standby waving just to say hi\n",
      "Did you stop? No, I just drove by\n",
      "\n"
     ]
    }
   ],
   "source": [
    "print(oracle.header.decode())"
   ]
  },
  {
   "cell_type": "markdown",
   "metadata": {},
   "source": [
    "# 13"
   ]
  },
  {
   "cell_type": "code",
   "execution_count": 1,
   "metadata": {},
   "outputs": [
    {
     "data": {
      "text/plain": [
       "{b'foo': b'bar', b'baz': b'qux', b'zap': b'zazzle'}"
      ]
     },
     "execution_count": 1,
     "metadata": {},
     "output_type": "execute_result"
    }
   ],
   "source": [
    "text = b'foo=bar&baz=qux&zap=zazzle'\n",
    "\n",
    "def parsing_routine(text):\n",
    "    data = text.split(b'&')\n",
    "    return {data.split(b'=')[0]: data.split(b'=')[1] for data in text.split(b'&')}\n",
    "\n",
    "parsing_routine(text)"
   ]
  },
  {
   "cell_type": "code",
   "execution_count": 2,
   "metadata": {},
   "outputs": [
    {
     "data": {
      "text/plain": [
       "{b'email': b'foo@bar.com', b'uid': b'10', b'role': b'user'}"
      ]
     },
     "execution_count": 2,
     "metadata": {},
     "output_type": "execute_result"
    }
   ],
   "source": [
    "email = b\"foo@bar.com\"\n",
    "\n",
    "def profile_for(email):\n",
    "    assert (b'&' not in email) | (b'=' not in email),\\\n",
    "        \"'&' and '=' characters not allowed\"\n",
    "    return b'email='+email+b'&uid=10&role=user'\n",
    "\n",
    "parsing_routine(profile_for(email))"
   ]
  },
  {
   "cell_type": "code",
   "execution_count": 3,
   "metadata": {},
   "outputs": [
    {
     "ename": "AssertionError",
     "evalue": "'&' and '=' characters not allowed",
     "output_type": "error",
     "traceback": [
      "\u001b[0;31m---------------------------------------------------------------------------\u001b[0m",
      "\u001b[0;31mAssertionError\u001b[0m                            Traceback (most recent call last)",
      "\u001b[1;32m/home/pi/the-cryptopals-cryptochallenges/Set2.ipynb Celda 25\u001b[0m line \u001b[0;36m2\n\u001b[1;32m      <a href='vscode-notebook-cell://ssh-remote%2Blostplace.duckdns.org/home/pi/the-cryptopals-cryptochallenges/Set2.ipynb#X33sdnNjb2RlLXJlbW90ZQ%3D%3D?line=0'>1</a>\u001b[0m not_allowed \u001b[39m=\u001b[39m \u001b[39mb\u001b[39m\u001b[39m\"\u001b[39m\u001b[39mfoo@bar.com&role=admin\u001b[39m\u001b[39m\"\u001b[39m\n\u001b[0;32m----> <a href='vscode-notebook-cell://ssh-remote%2Blostplace.duckdns.org/home/pi/the-cryptopals-cryptochallenges/Set2.ipynb#X33sdnNjb2RlLXJlbW90ZQ%3D%3D?line=1'>2</a>\u001b[0m parsing_routine(profile_for(not_allowed))\n",
      "\u001b[1;32m/home/pi/the-cryptopals-cryptochallenges/Set2.ipynb Celda 25\u001b[0m line \u001b[0;36m4\n\u001b[1;32m      <a href='vscode-notebook-cell://ssh-remote%2Blostplace.duckdns.org/home/pi/the-cryptopals-cryptochallenges/Set2.ipynb#X33sdnNjb2RlLXJlbW90ZQ%3D%3D?line=2'>3</a>\u001b[0m \u001b[39mdef\u001b[39;00m \u001b[39mprofile_for\u001b[39m(email):\n\u001b[0;32m----> <a href='vscode-notebook-cell://ssh-remote%2Blostplace.duckdns.org/home/pi/the-cryptopals-cryptochallenges/Set2.ipynb#X33sdnNjb2RlLXJlbW90ZQ%3D%3D?line=3'>4</a>\u001b[0m     \u001b[39massert\u001b[39;00m (\u001b[39mb\u001b[39m\u001b[39m'\u001b[39m\u001b[39m&\u001b[39m\u001b[39m'\u001b[39m \u001b[39mnot\u001b[39;00m \u001b[39min\u001b[39;00m email) \u001b[39m|\u001b[39m (\u001b[39mb\u001b[39m\u001b[39m'\u001b[39m\u001b[39m=\u001b[39m\u001b[39m'\u001b[39m \u001b[39mnot\u001b[39;00m \u001b[39min\u001b[39;00m email),\\\n\u001b[1;32m      <a href='vscode-notebook-cell://ssh-remote%2Blostplace.duckdns.org/home/pi/the-cryptopals-cryptochallenges/Set2.ipynb#X33sdnNjb2RlLXJlbW90ZQ%3D%3D?line=4'>5</a>\u001b[0m         \u001b[39m\"\u001b[39m\u001b[39m'\u001b[39m\u001b[39m&\u001b[39m\u001b[39m'\u001b[39m\u001b[39m and \u001b[39m\u001b[39m'\u001b[39m\u001b[39m=\u001b[39m\u001b[39m'\u001b[39m\u001b[39m characters not allowed\u001b[39m\u001b[39m\"\u001b[39m\n\u001b[1;32m      <a href='vscode-notebook-cell://ssh-remote%2Blostplace.duckdns.org/home/pi/the-cryptopals-cryptochallenges/Set2.ipynb#X33sdnNjb2RlLXJlbW90ZQ%3D%3D?line=5'>6</a>\u001b[0m     \u001b[39mreturn\u001b[39;00m \u001b[39mb\u001b[39m\u001b[39m'\u001b[39m\u001b[39memail=\u001b[39m\u001b[39m'\u001b[39m\u001b[39m+\u001b[39memail\u001b[39m+\u001b[39m\u001b[39mb\u001b[39m\u001b[39m'\u001b[39m\u001b[39m&uid=10&role=user\u001b[39m\u001b[39m'\u001b[39m\n",
      "\u001b[0;31mAssertionError\u001b[0m: '&' and '=' characters not allowed"
     ]
    }
   ],
   "source": [
    "not_allowed = b\"foo@bar.com&role=admin\"\n",
    "parsing_routine(profile_for(not_allowed))"
   ]
  },
  {
   "cell_type": "code",
   "execution_count": 4,
   "metadata": {},
   "outputs": [],
   "source": [
    "import os\n",
    "from cryptography.hazmat.primitives.ciphers import Cipher, algorithms, modes\n",
    "from utils import PKCS7\n",
    "\n",
    "class parsingRoutine:\n",
    "    def __init__(self, key):\n",
    "        self.key = key\n",
    "        self.cipher = Cipher(\n",
    "            algorithm=algorithms.AES(self.key),\n",
    "            mode=modes.ECB()\n",
    "            )\n",
    "        self.decryptor = self.cipher.decryptor()\n",
    "        self.padding = PKCS7(block_size=len(self.key))\n",
    "        \n",
    "    def digest(self, cipherText):\n",
    "        paddedPlainText = self.decryptor.update(cipherText)\n",
    "        plainText = self.padding.unpad(paddedPlainText)\n",
    "        return parsing_routine(plainText)\n",
    "    \n",
    "    \n",
    "class profileFor:\n",
    "    def __init__(self, key):\n",
    "        self.key = key\n",
    "        self.cipher = Cipher(\n",
    "            algorithm=algorithms.AES(self.key),\n",
    "            mode=modes.ECB()\n",
    "            )\n",
    "        self.encryptor = self.cipher.encryptor()\n",
    "        self.padding = PKCS7(block_size=len(self.key))\n",
    "    \n",
    "    def make_profile(self, user):\n",
    "        profileUser = profile_for(user)\n",
    "        padProfileUser = self.padding.pad(profileUser)\n",
    "        return self.encryptor.update(padProfileUser)"
   ]
  },
  {
   "cell_type": "code",
   "execution_count": 5,
   "metadata": {},
   "outputs": [],
   "source": [
    "key = os.urandom(16)\n",
    "profile4 = profileFor(key)\n",
    "parsing = parsingRoutine(key)"
   ]
  },
  {
   "cell_type": "code",
   "execution_count": 6,
   "metadata": {},
   "outputs": [
    {
     "name": "stdout",
     "output_type": "stream",
     "text": [
      "b'\\xebom][\\xb8\\xae\\xf96\\xef\\xb3\\xc2\\xb9R\\x07\\xb7\\xcb\\xd58\\x0fW\\xce\\x9b\\x18\\xf2\\x1c\\xdd\\xfc\\x85(1\\xe4\\x97x\\x9c\\xe4\\x91(z\\xd7L\\xb2_\\x94}\\xbd\\xd8S'\n"
     ]
    },
    {
     "data": {
      "text/plain": [
       "{b'email': b'foo@bar.com', b'uid': b'10', b'role': b'user'}"
      ]
     },
     "execution_count": 6,
     "metadata": {},
     "output_type": "execute_result"
    }
   ],
   "source": [
    "cipherProfile = profile4.make_profile(email)\n",
    "print(cipherProfile)\n",
    "\n",
    "parsing.digest(cipherProfile)"
   ]
  },
  {
   "cell_type": "code",
   "execution_count": 7,
   "metadata": {},
   "outputs": [
    {
     "name": "stdout",
     "output_type": "stream",
     "text": [
      "16\n"
     ]
    }
   ],
   "source": [
    "from utils import find_padding_length\n",
    "blockSize = find_padding_length(profile4.make_profile)\n",
    "print(blockSize)"
   ]
  },
  {
   "cell_type": "code",
   "execution_count": 8,
   "metadata": {},
   "outputs": [
    {
     "data": {
      "text/plain": [
       "True"
      ]
     },
     "execution_count": 8,
     "metadata": {},
     "output_type": "execute_result"
    }
   ],
   "source": [
    "from utils import check_repetitions_ECB\n",
    "cipherText = profile4.make_profile(b'A'*blockSize*3)\n",
    "check_repetitions_ECB(cipherText, blockSize)"
   ]
  },
  {
   "cell_type": "code",
   "execution_count": 9,
   "metadata": {},
   "outputs": [],
   "source": [
    "email = b'@gmail.com'\n",
    "userCharsUntilNewBlock = 1\n",
    "stop = False\n",
    "defLen = len(profile4.make_profile(email))\n",
    "while not stop:\n",
    "    newLen = len(profile4.make_profile(\n",
    "        b'A'*userCharsUntilNewBlock+email\n",
    "    ))\n",
    "    if defLen != newLen:\n",
    "        stop = True\n",
    "    else:\n",
    "        userCharsUntilNewBlock += 1"
   ]
  },
  {
   "cell_type": "code",
   "execution_count": 10,
   "metadata": {},
   "outputs": [
    {
     "name": "stdout",
     "output_type": "stream",
     "text": [
      "b'AAAAAAAA@gmail.com'\n"
     ]
    }
   ],
   "source": [
    "# We need 'role=user' falling on the last block so the user mail has to be \n",
    "# the following bytes long:\n",
    "userLength = (userCharsUntilNewBlock + len(b'role=user')) % blockSize\n",
    "email = b'A' * userLength + email\n",
    "print(email)"
   ]
  },
  {
   "cell_type": "code",
   "execution_count": 11,
   "metadata": {},
   "outputs": [
    {
     "name": "stdout",
     "output_type": "stream",
     "text": [
      "b'\\xea\\x14Zx\\xa8c\\xd4Mi\\xda\\xac`f\\x9b\\x1d\\xc5\\x0f\\\\L\\x8e\\x00v\\xc4\\xeb\\xaal3Qq\\xc5\\xdc\\x8b\\x8e\\x99\\x1f\\x08\\xde\\x81Z\\x92SGI\\x0eo\\x99\\xf2\\xda'\n"
     ]
    }
   ],
   "source": [
    "cipherProfile = profile4.make_profile(email)\n",
    "print(cipherProfile)"
   ]
  },
  {
   "cell_type": "code",
   "execution_count": 12,
   "metadata": {},
   "outputs": [
    {
     "name": "stdout",
     "output_type": "stream",
     "text": [
      "b'role=admin\\x06\\x06\\x06\\x06\\x06\\x06'\n"
     ]
    }
   ],
   "source": [
    "# Generating the cipher text that contains 'role=admin'\n",
    "padding = PKCS7(blockSize)\n",
    "adminText = padding.pad(b'role=admin')\n",
    "print(adminText)"
   ]
  },
  {
   "cell_type": "code",
   "execution_count": 18,
   "metadata": {},
   "outputs": [
    {
     "name": "stdout",
     "output_type": "stream",
     "text": [
      "b'\\xd0\\xc1\\x13\\xa1\\xa8\\xd4\\xa3nr\\x1e\\xb3\\xc1g;\\xce\\x9d'\n"
     ]
    }
   ],
   "source": [
    "userLength4adminBlock = blockSize - len(b'email=')\n",
    "adminCipherText = profile4.make_profile(\n",
    "    b'a'*userLength4adminBlock + adminText)\n",
    "adminCipherText = adminCipherText[blockSize:blockSize*2]\n",
    "print(adminCipherText)\n"
   ]
  },
  {
   "cell_type": "code",
   "execution_count": 14,
   "metadata": {},
   "outputs": [
    {
     "name": "stdout",
     "output_type": "stream",
     "text": [
      "b'\\xea\\x14Zx\\xa8c\\xd4Mi\\xda\\xac`f\\x9b\\x1d\\xc5\\x0f\\\\L\\x8e\\x00v\\xc4\\xeb\\xaal3Qq\\xc5\\xdc\\x8b\\xd0\\xc1\\x13\\xa1\\xa8\\xd4\\xa3nr\\x1e\\xb3\\xc1g;\\xce\\x9d'\n"
     ]
    }
   ],
   "source": [
    "crackedCipherProfile = cipherProfile[:-blockSize] + adminCipherText\n",
    "print(crackedCipherProfile)"
   ]
  },
  {
   "cell_type": "code",
   "execution_count": 15,
   "metadata": {},
   "outputs": [
    {
     "data": {
      "text/plain": [
       "{b'email': b'AAAAAAAA@gmail.com', b'uid': b'10', b'role': b'admin'}"
      ]
     },
     "execution_count": 15,
     "metadata": {},
     "output_type": "execute_result"
    }
   ],
   "source": [
    "parsing.digest(crackedCipherProfile)"
   ]
  },
  {
   "cell_type": "markdown",
   "metadata": {},
   "source": [
    "# 14"
   ]
  },
  {
   "cell_type": "code",
   "execution_count": 20,
   "metadata": {},
   "outputs": [],
   "source": [
    "import os\n",
    "import base64\n",
    "import numpy\n",
    "from utils import PKCS7\n",
    "from cryptography.hazmat.primitives.ciphers import Cipher, algorithms, modes\n",
    "\n",
    "class Oracle:\n",
    "    def __init__(self, blockSize):\n",
    "        self.blockSize = blockSize\n",
    "        self.key = os.urandom(self.blockSize)\n",
    "        self.header = base64.b64decode(\"\"\"\n",
    "Um9sbGluJyBpbiBteSA1LjAKV2l0aCBteSByYWctdG9wIGRvd24gc28gbXkg\n",
    "aGFpciBjYW4gYmxvdwpUaGUgZ2lybGllcyBvbiBzdGFuZGJ5IHdhdmluZyBq\n",
    "dXN0IHRvIHNheSBoaQpEaWQgeW91IHN0b3A/IE5vLCBJIGp1c3QgZHJvdmUg\n",
    "YnkK\n",
    "\"\"\")\n",
    "        self.cipher = Cipher(\n",
    "            algorithm=algorithms.AES(self.key),\n",
    "            mode=modes.ECB()\n",
    "            )\n",
    "        self.encryptor = self.cipher.encryptor()\n",
    "        self.padding = PKCS7(self.blockSize)\n",
    "        self.prepend = os.urandom(\n",
    "            int.from_bytes(os.urandom(1), byteorder='big')\n",
    "            )\n",
    "\n",
    "\n",
    "    def digest(self, plainText):\n",
    "        plainText = self.prepend + plainText + self.header\n",
    "        plainText = self.padding.pad(plainText)\n",
    "        return self.encryptor.update(plainText)"
   ]
  },
  {
   "cell_type": "code",
   "execution_count": 21,
   "metadata": {},
   "outputs": [],
   "source": [
    "oracle = Oracle(blockSize=16)"
   ]
  },
  {
   "cell_type": "code",
   "execution_count": 100,
   "metadata": {},
   "outputs": [
    {
     "name": "stdout",
     "output_type": "stream",
     "text": [
      "Padding length = 16\n"
     ]
    }
   ],
   "source": [
    "stop = False\n",
    "emptyDigest = oracle.digest(b'')\n",
    "i = 1\n",
    "while not stop:\n",
    "    newDigest = oracle.digest(b'A'*i)\n",
    "    if len(emptyDigest) != len(newDigest):\n",
    "        stop = True\n",
    "    else:\n",
    "        i += 1\n",
    "blockSizeFound = len(newDigest) - len(emptyDigest)\n",
    "\n",
    "print(f'Padding length = {blockSizeFound}')"
   ]
  },
  {
   "cell_type": "code",
   "execution_count": 109,
   "metadata": {},
   "outputs": [
    {
     "name": "stdout",
     "output_type": "stream",
     "text": [
      "ECB mode? True\n"
     ]
    }
   ],
   "source": [
    "from utils import check_repetitions_ECB\n",
    "print(f\"ECB mode? {check_repetitions_ECB(oracle.digest(b'A'*blockSizeFound*3), blockSizeFound)}\")"
   ]
  },
  {
   "cell_type": "code",
   "execution_count": 107,
   "metadata": {},
   "outputs": [
    {
     "name": "stdout",
     "output_type": "stream",
     "text": [
      "Input bytes to fill the first blocks = 14\n"
     ]
    }
   ],
   "source": [
    "oldDigest = oracle.digest(b'')\n",
    "oldBlockDigest = [oldDigest[i:i+blockSizeFound] \n",
    "                  for i in range(0, len(oldDigest), blockSizeFound)]\n",
    "newDigest = oracle.digest(b'A')\n",
    "newBlockDigest = [newDigest[i:i+blockSizeFound] \n",
    "                  for i in range(0, len(oldDigest), blockSizeFound)]\n",
    "reference = sum([i == j for i,j in zip(newBlockDigest, oldBlockDigest)])\n",
    "for i in range(1, blockSizeFound+1):\n",
    "    oldBlockDigest = newBlockDigest\n",
    "    newDigest = oracle.digest(b'A' * (i+1))\n",
    "    newBlockDigest = [newDigest[i:i+blockSizeFound]\n",
    "                      for i in range(0, len(oldDigest), blockSizeFound)]\n",
    "    countEqual = sum([i == j for i,j in zip(newBlockDigest, oldBlockDigest)])\n",
    "    if reference != countEqual:\n",
    "        break\n",
    "nInputBytes = i\n",
    "compStart = countEqual * blockSizeFound\n",
    "print(f'Input bytes to fill the first blocks = {nInputBytes}')"
   ]
  },
  {
   "cell_type": "code",
   "execution_count": 110,
   "metadata": {},
   "outputs": [],
   "source": [
    "def crack_ecb_oracle(oracle, crackedBytes, blockSizeFound, fixedSizeNewBlock, compStart):\n",
    "    plainText = b'A' * fixedSizeNewBlock\n",
    "    plainText += b'A'* (blockSizeFound - 1 - len(crackedBytes) % blockSizeFound)\n",
    "    cypherText = oracle.digest(plainText)\n",
    "\n",
    "    plainText = b'A' * fixedSizeNewBlock\n",
    "    plainText += b'A'* (blockSizeFound - 1 - len(crackedBytes) % blockSizeFound) + crackedBytes\n",
    "    comparisonLen = compStart + int(blockSizeFound * int(len(crackedBytes)/blockSizeFound))\n",
    "    oCipherBlock = cypherText[comparisonLen:comparisonLen+blockSizeFound]\n",
    "    for i in range(256):\n",
    "        byte = int.to_bytes(i, length=1, byteorder='big')\n",
    "        iCipherText = oracle.digest(plainText + byte)\n",
    "        iCipherBlock = iCipherText[comparisonLen:comparisonLen+blockSizeFound]\n",
    "        if  iCipherBlock == oCipherBlock:\n",
    "            return byte\n",
    "    return b''"
   ]
  },
  {
   "cell_type": "code",
   "execution_count": 111,
   "metadata": {},
   "outputs": [
    {
     "data": {
      "text/plain": [
       "b'R'"
      ]
     },
     "execution_count": 111,
     "metadata": {},
     "output_type": "execute_result"
    }
   ],
   "source": [
    "crack_ecb_oracle(\n",
    "    oracle=oracle,\n",
    "    crackedBytes=b'', \n",
    "    blockSizeFound=blockSizeFound, \n",
    "    fixedSizeNewBlock=nInputBytes, \n",
    "    compStart=compStart)"
   ]
  },
  {
   "cell_type": "code",
   "execution_count": 113,
   "metadata": {},
   "outputs": [],
   "source": [
    "decodedText = b''\n",
    "for _ in range(len(oracle.digest(b''))):\n",
    "    decodedText += crack_ecb_oracle(\n",
    "        oracle=oracle,\n",
    "        crackedBytes=decodedText, \n",
    "        blockSizeFound=blockSizeFound, \n",
    "        fixedSizeNewBlock=nInputBytes, \n",
    "        compStart=compStart\n",
    "        )"
   ]
  },
  {
   "cell_type": "code",
   "execution_count": 116,
   "metadata": {},
   "outputs": [
    {
     "name": "stdout",
     "output_type": "stream",
     "text": [
      "Rollin' in my 5.0\n",
      "With my rag-top down so my hair can blow\n",
      "The girlies on standby waving just to say hi\n",
      "Did you stop? No, I just drove by\n",
      "\u0001\n"
     ]
    }
   ],
   "source": [
    "print(decodedText.decode())"
   ]
  },
  {
   "cell_type": "markdown",
   "metadata": {},
   "source": [
    "# 15"
   ]
  },
  {
   "cell_type": "code",
   "execution_count": 2,
   "metadata": {},
   "outputs": [],
   "source": [
    "correctPadding = b\"ICE ICE BABY\\x04\\x04\\x04\\x04\"\n",
    "incorrectPadding1 = b\"ICE ICE BABY\\x05\\x05\\x05\\x05\"\n",
    "incorrectPadding2 = b\"ICE ICE BABY\\x01\\x02\\x03\\x04\""
   ]
  },
  {
   "cell_type": "code",
   "execution_count": 19,
   "metadata": {},
   "outputs": [],
   "source": [
    "class PKCS7:\n",
    "    def __init__(self, block_size):\n",
    "        self.block_size = block_size\n",
    "\n",
    "    def pad(self, text):\n",
    "        n = self.block_size - len(text) % self.block_size\n",
    "        return text + bytes([n] * n)\n",
    "    \n",
    "    def validPad(self, text):\n",
    "        text = text[-self.block_size:]\n",
    "        n = text[-1]\n",
    "        if text[-n:] == bytes([n]) * n:\n",
    "            return True\n",
    "        else:\n",
    "            raise Exception('Invalid Padding')\n",
    "    \n",
    "    def unpad(self, text):\n",
    "        if self.validPad(text):\n",
    "            n = text[-1]\n",
    "            return text[:-n]"
   ]
  },
  {
   "cell_type": "code",
   "execution_count": 20,
   "metadata": {},
   "outputs": [
    {
     "data": {
      "text/plain": [
       "b'ICE ICE BABY'"
      ]
     },
     "execution_count": 20,
     "metadata": {},
     "output_type": "execute_result"
    }
   ],
   "source": [
    "blockSize = len(correctPadding)\n",
    "padding = PKCS7(blockSize)\n",
    "padding.unpad(correctPadding)"
   ]
  },
  {
   "cell_type": "code",
   "execution_count": 21,
   "metadata": {},
   "outputs": [
    {
     "ename": "Exception",
     "evalue": "Invalid Padding",
     "output_type": "error",
     "traceback": [
      "\u001b[0;31m---------------------------------------------------------------------------\u001b[0m",
      "\u001b[0;31mException\u001b[0m                                 Traceback (most recent call last)",
      "\u001b[1;32m/home/pi/the-cryptopals-cryptochallenges/Set2.ipynb Celda 52\u001b[0m line \u001b[0;36m1\n\u001b[0;32m----> <a href='vscode-notebook-cell://ssh-remote%2Blostplace.duckdns.org/home/pi/the-cryptopals-cryptochallenges/Set2.ipynb#Y111sdnNjb2RlLXJlbW90ZQ%3D%3D?line=0'>1</a>\u001b[0m padding\u001b[39m.\u001b[39;49munpad(incorrectPadding1)\n",
      "\u001b[1;32m/home/pi/the-cryptopals-cryptochallenges/Set2.ipynb Celda 52\u001b[0m line \u001b[0;36m1\n\u001b[1;32m     <a href='vscode-notebook-cell://ssh-remote%2Blostplace.duckdns.org/home/pi/the-cryptopals-cryptochallenges/Set2.ipynb#Y111sdnNjb2RlLXJlbW90ZQ%3D%3D?line=16'>17</a>\u001b[0m \u001b[39mdef\u001b[39;00m \u001b[39munpad\u001b[39m(\u001b[39mself\u001b[39m, text):\n\u001b[0;32m---> <a href='vscode-notebook-cell://ssh-remote%2Blostplace.duckdns.org/home/pi/the-cryptopals-cryptochallenges/Set2.ipynb#Y111sdnNjb2RlLXJlbW90ZQ%3D%3D?line=17'>18</a>\u001b[0m     \u001b[39mif\u001b[39;00m \u001b[39mself\u001b[39;49m\u001b[39m.\u001b[39;49mvalidPad(text):\n\u001b[1;32m     <a href='vscode-notebook-cell://ssh-remote%2Blostplace.duckdns.org/home/pi/the-cryptopals-cryptochallenges/Set2.ipynb#Y111sdnNjb2RlLXJlbW90ZQ%3D%3D?line=18'>19</a>\u001b[0m         n \u001b[39m=\u001b[39m text[\u001b[39m-\u001b[39m\u001b[39m1\u001b[39m]\n\u001b[1;32m     <a href='vscode-notebook-cell://ssh-remote%2Blostplace.duckdns.org/home/pi/the-cryptopals-cryptochallenges/Set2.ipynb#Y111sdnNjb2RlLXJlbW90ZQ%3D%3D?line=19'>20</a>\u001b[0m         \u001b[39mreturn\u001b[39;00m text[:\u001b[39m-\u001b[39mn]\n",
      "\u001b[1;32m/home/pi/the-cryptopals-cryptochallenges/Set2.ipynb Celda 52\u001b[0m line \u001b[0;36m1\n\u001b[1;32m     <a href='vscode-notebook-cell://ssh-remote%2Blostplace.duckdns.org/home/pi/the-cryptopals-cryptochallenges/Set2.ipynb#Y111sdnNjb2RlLXJlbW90ZQ%3D%3D?line=12'>13</a>\u001b[0m     \u001b[39mreturn\u001b[39;00m \u001b[39mTrue\u001b[39;00m\n\u001b[1;32m     <a href='vscode-notebook-cell://ssh-remote%2Blostplace.duckdns.org/home/pi/the-cryptopals-cryptochallenges/Set2.ipynb#Y111sdnNjb2RlLXJlbW90ZQ%3D%3D?line=13'>14</a>\u001b[0m \u001b[39melse\u001b[39;00m:\n\u001b[0;32m---> <a href='vscode-notebook-cell://ssh-remote%2Blostplace.duckdns.org/home/pi/the-cryptopals-cryptochallenges/Set2.ipynb#Y111sdnNjb2RlLXJlbW90ZQ%3D%3D?line=14'>15</a>\u001b[0m     \u001b[39mraise\u001b[39;00m \u001b[39mException\u001b[39;00m(\u001b[39m'\u001b[39m\u001b[39mInvalid Padding\u001b[39m\u001b[39m'\u001b[39m)\n",
      "\u001b[0;31mException\u001b[0m: Invalid Padding"
     ]
    }
   ],
   "source": [
    "padding.unpad(incorrectPadding1)"
   ]
  },
  {
   "cell_type": "code",
   "execution_count": 22,
   "metadata": {},
   "outputs": [
    {
     "ename": "Exception",
     "evalue": "Invalid Padding",
     "output_type": "error",
     "traceback": [
      "\u001b[0;31m---------------------------------------------------------------------------\u001b[0m",
      "\u001b[0;31mException\u001b[0m                                 Traceback (most recent call last)",
      "\u001b[1;32m/home/pi/the-cryptopals-cryptochallenges/Set2.ipynb Celda 53\u001b[0m line \u001b[0;36m1\n\u001b[0;32m----> <a href='vscode-notebook-cell://ssh-remote%2Blostplace.duckdns.org/home/pi/the-cryptopals-cryptochallenges/Set2.ipynb#Y112sdnNjb2RlLXJlbW90ZQ%3D%3D?line=0'>1</a>\u001b[0m padding\u001b[39m.\u001b[39;49munpad(incorrectPadding2)\n",
      "\u001b[1;32m/home/pi/the-cryptopals-cryptochallenges/Set2.ipynb Celda 53\u001b[0m line \u001b[0;36m1\n\u001b[1;32m     <a href='vscode-notebook-cell://ssh-remote%2Blostplace.duckdns.org/home/pi/the-cryptopals-cryptochallenges/Set2.ipynb#Y112sdnNjb2RlLXJlbW90ZQ%3D%3D?line=16'>17</a>\u001b[0m \u001b[39mdef\u001b[39;00m \u001b[39munpad\u001b[39m(\u001b[39mself\u001b[39m, text):\n\u001b[0;32m---> <a href='vscode-notebook-cell://ssh-remote%2Blostplace.duckdns.org/home/pi/the-cryptopals-cryptochallenges/Set2.ipynb#Y112sdnNjb2RlLXJlbW90ZQ%3D%3D?line=17'>18</a>\u001b[0m     \u001b[39mif\u001b[39;00m \u001b[39mself\u001b[39;49m\u001b[39m.\u001b[39;49mvalidPad(text):\n\u001b[1;32m     <a href='vscode-notebook-cell://ssh-remote%2Blostplace.duckdns.org/home/pi/the-cryptopals-cryptochallenges/Set2.ipynb#Y112sdnNjb2RlLXJlbW90ZQ%3D%3D?line=18'>19</a>\u001b[0m         n \u001b[39m=\u001b[39m text[\u001b[39m-\u001b[39m\u001b[39m1\u001b[39m]\n\u001b[1;32m     <a href='vscode-notebook-cell://ssh-remote%2Blostplace.duckdns.org/home/pi/the-cryptopals-cryptochallenges/Set2.ipynb#Y112sdnNjb2RlLXJlbW90ZQ%3D%3D?line=19'>20</a>\u001b[0m         \u001b[39mreturn\u001b[39;00m text[:\u001b[39m-\u001b[39mn]\n",
      "\u001b[1;32m/home/pi/the-cryptopals-cryptochallenges/Set2.ipynb Celda 53\u001b[0m line \u001b[0;36m1\n\u001b[1;32m     <a href='vscode-notebook-cell://ssh-remote%2Blostplace.duckdns.org/home/pi/the-cryptopals-cryptochallenges/Set2.ipynb#Y112sdnNjb2RlLXJlbW90ZQ%3D%3D?line=12'>13</a>\u001b[0m     \u001b[39mreturn\u001b[39;00m \u001b[39mTrue\u001b[39;00m\n\u001b[1;32m     <a href='vscode-notebook-cell://ssh-remote%2Blostplace.duckdns.org/home/pi/the-cryptopals-cryptochallenges/Set2.ipynb#Y112sdnNjb2RlLXJlbW90ZQ%3D%3D?line=13'>14</a>\u001b[0m \u001b[39melse\u001b[39;00m:\n\u001b[0;32m---> <a href='vscode-notebook-cell://ssh-remote%2Blostplace.duckdns.org/home/pi/the-cryptopals-cryptochallenges/Set2.ipynb#Y112sdnNjb2RlLXJlbW90ZQ%3D%3D?line=14'>15</a>\u001b[0m     \u001b[39mraise\u001b[39;00m \u001b[39mException\u001b[39;00m(\u001b[39m'\u001b[39m\u001b[39mInvalid Padding\u001b[39m\u001b[39m'\u001b[39m)\n",
      "\u001b[0;31mException\u001b[0m: Invalid Padding"
     ]
    }
   ],
   "source": [
    "padding.unpad(incorrectPadding2)"
   ]
  },
  {
   "cell_type": "markdown",
   "metadata": {},
   "source": [
    "# 16"
   ]
  },
  {
   "cell_type": "code",
   "execution_count": 1,
   "metadata": {},
   "outputs": [],
   "source": [
    "from utils import PKCS7, AES_CBC\n",
    "import os\n",
    "\n",
    "BLOCK_SIZE = 16\n",
    "KEY = b'secret_key:12345'\n",
    "IV = os.urandom(BLOCK_SIZE)\n",
    "\n",
    "def generate_chiper_text_oracle(plain_text: bytes) -> bytes:\n",
    "    blockCipher = AES_CBC(\n",
    "        key=KEY,\n",
    "        IV=IV,\n",
    "    )\n",
    "    assert (b';' not in plain_text) | (b'=' not in plain_text),\\\n",
    "        \"';' and '=' characters not allowed\"\n",
    "    prepend_str = b'comment1=cooking%20MCs;userdata='\n",
    "    append_str = b';comment2=%20like%20a%20pound%20of%20bacon'\n",
    "    plain_text = prepend_str + plain_text + append_str\n",
    "    return blockCipher.encrypt(plain_text)\n",
    "\n",
    "def admin_oracle(cipher_text: bytes) -> bool:\n",
    "    blockCipher = AES_CBC(\n",
    "        key=KEY,\n",
    "        IV=IV,\n",
    "    )\n",
    "    plain_text = blockCipher.decrypt(cipher_text)\n",
    "    return b';admin=true;' in plain_text"
   ]
  },
  {
   "cell_type": "code",
   "execution_count": 54,
   "metadata": {},
   "outputs": [
    {
     "name": "stdout",
     "output_type": "stream",
     "text": [
      "b'\\xc3u\\xda\":\\xabkF^\\x11\\xbcJ\\x00\\xcd\\xa8\\x0fs\\x9a\\xc9\\xa6\\xe7h\\xafEO$]\\xa8\\xe3\\xd1\\x12Y@\\xff;|\\xbb\\x1fA\\x14\\x92\\x07Aa9?\\'\\xf5\\x894\\xeb\\xcd/\\xf93\\x0e\\xa9\\x17\\x86\\xb9`\\x0b\\xf1=_\\xda\\xe2\\x8c\\xd7\\xf7I\\x13\\x1cv\\xc7\\x15\\xbd\\x88\\x8ds'\n",
      "False\n"
     ]
    }
   ],
   "source": [
    "cipher_text = generate_chiper_text_oracle(b'')\n",
    "print(cipher_text)\n",
    "print(admin_oracle(cipher_text))"
   ]
  },
  {
   "cell_type": "code",
   "execution_count": 55,
   "metadata": {},
   "outputs": [
    {
     "name": "stdout",
     "output_type": "stream",
     "text": [
      "Block Size = 16\n",
      "Number of blocks: 5\n"
     ]
    }
   ],
   "source": [
    "from utils import find_block_size\n",
    "block_size = find_block_size(generate_chiper_text_oracle)\n",
    "n_blocks = int(len(cipher_text)/block_size)\n",
    "print('Number of blocks:', n_blocks)"
   ]
  },
  {
   "cell_type": "code",
   "execution_count": 107,
   "metadata": {},
   "outputs": [],
   "source": [
    "cipher_text = generate_chiper_text_oracle(b'\\x00' * block_size * n_blocks)"
   ]
  },
  {
   "cell_type": "code",
   "execution_count": 110,
   "metadata": {},
   "outputs": [],
   "source": [
    "from utils import xor\n",
    "inject = b';admin=true;'\n",
    "\n",
    "pad = PKCS7(block_size)\n",
    "inject = pad.pad(inject)\n",
    "attack_block_n = n_blocks - 1\n",
    "modify_block = \\\n",
    "    cipher_text[attack_block_n * block_size: (attack_block_n + 1) * block_size]\n",
    "modified_block = xor(modify_block, inject)\n",
    "cracked_cipher_text = (\n",
    "    cipher_text[:attack_block_n * block_size]\n",
    "    + modified_block\n",
    "    + cipher_text[(attack_block_n + 1) * block_size:]\n",
    ")"
   ]
  },
  {
   "cell_type": "code",
   "execution_count": 111,
   "metadata": {},
   "outputs": [
    {
     "data": {
      "text/plain": [
       "True"
      ]
     },
     "execution_count": 111,
     "metadata": {},
     "output_type": "execute_result"
    }
   ],
   "source": [
    "admin_oracle(cracked_cipher_text)"
   ]
  },
  {
   "cell_type": "code",
   "execution_count": null,
   "metadata": {},
   "outputs": [],
   "source": []
  }
 ],
 "metadata": {
  "kernelspec": {
   "display_name": "base",
   "language": "python",
   "name": "python3"
  },
  "language_info": {
   "codemirror_mode": {
    "name": "ipython",
    "version": 3
   },
   "file_extension": ".py",
   "mimetype": "text/x-python",
   "name": "python",
   "nbconvert_exporter": "python",
   "pygments_lexer": "ipython3",
   "version": "3.9.6"
  },
  "orig_nbformat": 4
 },
 "nbformat": 4,
 "nbformat_minor": 2
}
