{
 "cells": [
  {
   "attachments": {},
   "cell_type": "markdown",
   "metadata": {},
   "source": [
    "# 9"
   ]
  },
  {
   "cell_type": "code",
   "execution_count": 87,
   "metadata": {},
   "outputs": [],
   "source": [
    "text = \"YELLOW SUBMARINE\""
   ]
  },
  {
   "cell_type": "code",
   "execution_count": 17,
   "metadata": {},
   "outputs": [],
   "source": [
    "class PKCS7:\n",
    "    def __init__(self, block_size):\n",
    "        self.block_size = block_size\n",
    "\n",
    "    def pad(self, text):\n",
    "        n = self.block_size - len(text) % self.block_size\n",
    "        return text + bytes([n] * n)\n",
    "    \n",
    "    def unpad(self, text):\n",
    "        n = text[-1]\n",
    "        return text[:-n]"
   ]
  },
  {
   "cell_type": "code",
   "execution_count": 90,
   "metadata": {},
   "outputs": [
    {
     "data": {
      "text/plain": [
       "b'YELLOW SUBMARINE\\x04\\x04\\x04\\x04'"
      ]
     },
     "execution_count": 90,
     "metadata": {},
     "output_type": "execute_result"
    }
   ],
   "source": [
    "pkcs7 = PKCS7(20)\n",
    "pkcs7.pad(text.encode())"
   ]
  },
  {
   "attachments": {},
   "cell_type": "markdown",
   "metadata": {},
   "source": [
    "# 10"
   ]
  },
  {
   "cell_type": "code",
   "execution_count": 1,
   "metadata": {},
   "outputs": [],
   "source": [
    "import base64\n",
    "key = \"YELLOW SUBMARINE\"\n",
    "with open('./cryptopals.com_static_challenge-data_10.txt', 'r') as f:\n",
    "    file = base64.b64decode(f.read().replace('\\n', '').encode())"
   ]
  },
  {
   "cell_type": "code",
   "execution_count": 2,
   "metadata": {},
   "outputs": [],
   "source": [
    "from utils import xor, PKCS7, AES_CBC\n",
    "from cryptography.hazmat.primitives.ciphers import Cipher, algorithms, modes\n",
    "\n",
    "blockSize = int(algorithms.AES(key.encode()).block_size/8)"
   ]
  },
  {
   "cell_type": "code",
   "execution_count": 3,
   "metadata": {},
   "outputs": [
    {
     "name": "stdout",
     "output_type": "stream",
     "text": [
      "I'm back and I'm ringin' the bell \n",
      "A rockin' on the mike while the fly girls yell \n",
      "In ecstasy in the back of me \n",
      "Well that's my DJ Deshay cuttin' all them Z's \n",
      "Hittin' hard and the girlies goin' crazy \n",
      "Vanilla's on the mike, man I'm not lazy. \n",
      "\n",
      "I'm lettin' my drug kick in \n",
      "It controls my mouth and I begin \n",
      "To just let it flow, let my concepts go \n",
      "My posse's to the side yellin', Go Vanilla Go! \n",
      "\n",
      "Smooth 'cause that's the way I will be \n",
      "And if you don't give a damn, then \n",
      "Why you starin' at me \n",
      "So get off 'cause I control the stage \n",
      "There's no dissin' allowed \n",
      "I'm in my own phase \n",
      "The girlies sa y they love me and that is ok \n",
      "And I can dance better than any kid n' play \n",
      "\n",
      "Stage 2 -- Yea the one ya' wanna listen to \n",
      "It's off my head so let the beat play through \n",
      "So I can funk it up and make it sound good \n",
      "1-2-3 Yo -- Knock on some wood \n",
      "For good luck, I like my rhymes atrocious \n",
      "Supercalafragilisticexpialidocious \n",
      "I'm an effect and that you can bet \n",
      "I can take a fly girl and make her wet. \n",
      "\n",
      "I'm like Samson -- Samson to Delilah \n",
      "There's no denyin', You can try to hang \n",
      "But you'll keep tryin' to get my style \n",
      "Over and over, practice makes perfect \n",
      "But not if you're a loafer. \n",
      "\n",
      "You'll get nowhere, no place, no time, no girls \n",
      "Soon -- Oh my God, homebody, you probably eat \n",
      "Spaghetti with a spoon! Come on and say it! \n",
      "\n",
      "VIP. Vanilla Ice yep, yep, I'm comin' hard like a rhino \n",
      "Intoxicating so you stagger like a wino \n",
      "So punks stop trying and girl stop cryin' \n",
      "Vanilla Ice is sellin' and you people are buyin' \n",
      "'Cause why the freaks are jockin' like Crazy Glue \n",
      "Movin' and groovin' trying to sing along \n",
      "All through the ghetto groovin' this here song \n",
      "Now you're amazed by the VIP posse. \n",
      "\n",
      "Steppin' so hard like a German Nazi \n",
      "Startled by the bases hittin' ground \n",
      "There's no trippin' on mine, I'm just gettin' down \n",
      "Sparkamatic, I'm hangin' tight like a fanatic \n",
      "You trapped me once and I thought that \n",
      "You might have it \n",
      "So step down and lend me your ear \n",
      "'89 in my time! You, '90 is my year. \n",
      "\n",
      "You're weakenin' fast, YO! and I can tell it \n",
      "Your body's gettin' hot, so, so I can smell it \n",
      "So don't be mad and don't be sad \n",
      "'Cause the lyrics belong to ICE, You can call me Dad \n",
      "You're pitchin' a fit, so step back and endure \n",
      "Let the witch doctor, Ice, do the dance to cure \n",
      "So come up close and don't be square \n",
      "You wanna battle me -- Anytime, anywhere \n",
      "\n",
      "You thought that I was weak, Boy, you're dead wrong \n",
      "So come on, everybody and sing this song \n",
      "\n",
      "Say -- Play that funky music Say, go white boy, go white boy go \n",
      "play that funky music Go white boy, go white boy, go \n",
      "Lay down and boogie and play that funky music till you die. \n",
      "\n",
      "Play that funky music Come on, Come on, let me hear \n",
      "Play that funky music white boy you say it, say it \n",
      "Play that funky music A little louder now \n",
      "Play that funky music, white boy Come on, Come on, Come on \n",
      "Play that funky music \n",
      "\n"
     ]
    }
   ],
   "source": [
    "aes_cbc = AES_CBC(key = key.encode(),\n",
    "                  IV = b'\\x00'*blockSize)\n",
    "print(aes_cbc.decrypt(file).decode())"
   ]
  },
  {
   "attachments": {},
   "cell_type": "markdown",
   "metadata": {},
   "source": [
    "# 11"
   ]
  },
  {
   "cell_type": "code",
   "execution_count": 7,
   "metadata": {},
   "outputs": [],
   "source": [
    "import os\n",
    "from utils import AES_CBC, PKCS7\n",
    "from cryptography.hazmat.primitives.ciphers import Cipher, algorithms, modes\n",
    "\n",
    "def encryption_oracle(plainText):\n",
    "    lengthRandomBytes = 5 + int(int.from_bytes(os.urandom(1), byteorder='big')* (6/256))\n",
    "    plainText = os.urandom(lengthRandomBytes) + plainText + os.urandom(lengthRandomBytes)\n",
    "\n",
    "    blockSize = 16\n",
    "    key = os.urandom(blockSize)\n",
    "\n",
    "    if int.from_bytes(os.urandom(1), byteorder='big')/256 < 0.5:\n",
    "        cipher = AES_CBC(key, IV=os.urandom(blockSize))\n",
    "        return cipher.encrypt(plainText)\n",
    "    else:\n",
    "        cipher = Cipher(algorithm=algorithms.AES(key),\n",
    "                        mode=modes.ECB())\n",
    "        padding = PKCS7(blockSize)\n",
    "        plainText = padding.pad(plainText)\n",
    "        encryptor = cipher.encryptor()\n",
    "        return encryptor.update(plainText)"
   ]
  },
  {
   "cell_type": "code",
   "execution_count": 8,
   "metadata": {},
   "outputs": [],
   "source": [
    "import base64\n",
    "key = \"YELLOW SUBMARINE\"\n",
    "with open('./cryptopals.com_static_challenge-data_10.txt', 'r') as f:\n",
    "    file = base64.b64decode(f.read().replace('\\n', '').encode())"
   ]
  },
  {
   "cell_type": "code",
   "execution_count": 9,
   "metadata": {},
   "outputs": [
    {
     "name": "stdout",
     "output_type": "stream",
     "text": [
      "{'CBC mode': 0.514, 'ECB mode': 0.486}\n"
     ]
    }
   ],
   "source": [
    "from utils import check_repetitions_ECB\n",
    "from collections import Counter\n",
    "\n",
    "experiments = []\n",
    "for i in range(0, 1000):\n",
    "    if check_repetitions_ECB(encryption_oracle(b'0'*256), 16):\n",
    "        experiments.append('ECB mode')\n",
    "    else:\n",
    "        experiments.append('CBC mode')\n",
    "\n",
    "counts = Counter(experiments)\n",
    "results = {key: value/len(experiments) for key, value in counts.items()}\n",
    "print(results)"
   ]
  },
  {
   "attachments": {},
   "cell_type": "markdown",
   "metadata": {},
   "source": [
    "# 12"
   ]
  },
  {
   "cell_type": "code",
   "execution_count": 26,
   "metadata": {},
   "outputs": [],
   "source": [
    "import os\n",
    "import base64\n",
    "from utils import PKCS7\n",
    "from cryptography.hazmat.primitives.ciphers import Cipher, algorithms, modes\n",
    "\n",
    "blockSize = 16\n",
    "KEY = os.urandom(blockSize)\n",
    "\n",
    "def oracle(plainText):\n",
    "    header = base64.b64decode(\"Um9sbGluJyBpbiBteSA1LjAKV2l0aCBteSByYWctdG9wIGRvd24gc28gbXkg\"\n",
    "                           \"aGFpciBjYW4gYmxvdwpUaGUgZ2lybGllcyBvbiBzdGFuZGJ5IHdhdmluZyBq\"\n",
    "                           \"dXN0IHRvIHNheSBoaQpEaWQgeW91IHN0b3A/IE5vLCBJIGp1c3QgZHJvdmUg\"\n",
    "                           \"YnkK\")\n",
    "    plainText += header\n",
    "    cipher = Cipher(algorithm=algorithms.AES(KEY),\n",
    "                    mode=modes.ECB())\n",
    "    padding = PKCS7(blockSize)\n",
    "    plainText = padding.pad(plainText)\n",
    "    encryptor = cipher.encryptor()\n",
    "    return encryptor.update(plainText)"
   ]
  },
  {
   "cell_type": "code",
   "execution_count": 31,
   "metadata": {},
   "outputs": [
    {
     "name": "stdout",
     "output_type": "stream",
     "text": [
      "Padding length = 16\n"
     ]
    }
   ],
   "source": [
    "stop = False\n",
    "startingLen = len(oracle(b''))\n",
    "i = 1\n",
    "while not stop:\n",
    "    newLen = len(oracle(b'A'*i))\n",
    "    if newLen != startingLen:\n",
    "        stop = True\n",
    "    else:\n",
    "        i += 1\n",
    "blockSizeFound = newLen - startingLen\n",
    "print(f'Padding length = {blockSizeFound}')"
   ]
  },
  {
   "cell_type": "code",
   "execution_count": 33,
   "metadata": {},
   "outputs": [
    {
     "name": "stdout",
     "output_type": "stream",
     "text": [
      "ECB mode? True\n"
     ]
    }
   ],
   "source": [
    "from utils import check_repetitions_ECB\n",
    "print(f\"ECB mode? {check_repetitions_ECB(oracle(b'A'*blockSize*2), blockSizeFound)}\")"
   ]
  },
  {
   "cell_type": "code",
   "execution_count": null,
   "metadata": {},
   "outputs": [],
   "source": []
  }
 ],
 "metadata": {
  "kernelspec": {
   "display_name": "base",
   "language": "python",
   "name": "python3"
  },
  "language_info": {
   "codemirror_mode": {
    "name": "ipython",
    "version": 3
   },
   "file_extension": ".py",
   "mimetype": "text/x-python",
   "name": "python",
   "nbconvert_exporter": "python",
   "pygments_lexer": "ipython3",
   "version": "3.9.12"
  },
  "orig_nbformat": 4
 },
 "nbformat": 4,
 "nbformat_minor": 2
}
